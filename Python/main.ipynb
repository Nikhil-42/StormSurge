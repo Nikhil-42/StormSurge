{
 "cells": [
  {
   "cell_type": "markdown",
   "id": "b0257618",
   "metadata": {},
   "source": []
  },
  {
   "cell_type": "code",
   "execution_count": 1,
   "id": "7b9c1082",
   "metadata": {},
   "outputs": [],
   "source": [
    "import xarray as xr\n",
    "import numpy as np\n",
    "from matplotlib import pyplot as plt\n",
    "import cv2"
   ]
  },
  {
   "cell_type": "code",
   "execution_count": 15,
   "id": "9d80f930",
   "metadata": {},
   "outputs": [],
   "source": [
    "dataset = xr.open_dataset(\"GMTED2010_15n015_00625deg.nc\")\n",
    "max_height = 2**15 - 1# int(dataset.elevation.mean() + 3*dataset.elevation.std())\n",
    "data = np.array(dataset.elevation.values[::-1] - dataset.elevation.values.min()).astype(np.uint16)"
   ]
  },
  {
   "cell_type": "code",
   "execution_count": 11,
   "id": "f7a9d4a7",
   "metadata": {},
   "outputs": [
    {
     "ename": "",
     "evalue": "",
     "output_type": "error",
     "traceback": [
      "\u001b[1;31mThe Kernel crashed while executing code in the current cell or a previous cell. \n",
      "\u001b[1;31mPlease review the code in the cell(s) to identify a possible cause of the failure. \n",
      "\u001b[1;31mClick <a href='https://aka.ms/vscodeJupyterKernelCrash'>here</a> for more info. \n",
      "\u001b[1;31mView Jupyter <a href='command:jupyter.viewOutput'>log</a> for further details."
     ]
    }
   ],
   "source": [
    "dataset = xr.open_dataset(\"GEBCO_2024_sub_ice_topo.nc\")\n",
    "data = np.array(dataset.elevation.values.clip(min=0)[::-1,::1]).astype(np.float32)"
   ]
  },
  {
   "cell_type": "code",
   "execution_count": 17,
   "id": "c734431d",
   "metadata": {},
   "outputs": [
    {
     "data": {
      "text/plain": [
       "True"
      ]
     },
     "execution_count": 17,
     "metadata": {},
     "output_type": "execute_result"
    }
   ],
   "source": [
    "data *= int(2**16 / (data.max() + 1))\n",
    "cv2.imwrite(\"heightmap.png\", data.astype(np.uint16))"
   ]
  },
  {
   "cell_type": "code",
   "execution_count": null,
   "id": "5b325476",
   "metadata": {},
   "outputs": [
    {
     "name": "stdout",
     "output_type": "stream",
     "text": [
      "-412 7237\n"
     ]
    },
    {
     "data": {
      "text/plain": [
       "<matplotlib.image.AxesImage at 0x7fa832432210>"
      ]
     },
     "execution_count": 13,
     "metadata": {},
     "output_type": "execute_result"
    },
    {
     "data": {
      "image/png": "[encoded data removed]",
      "text/plain": [
       "<Figure size 640x480 with 1 Axes>"
      ]
     },
     "metadata": {},
     "output_type": "display_data"
    }
   ],
   "source": [
    "print(data.min(), data.max())\n",
    "plt.imshow(data, cmap=\"terrain\")\n",
    "\n",
    "# Make 8-bit\n",
    "# heightmap = heightmap.clip(min=0, max=255).astype(np.uint8)\n",
    "# heightmap = cv2.bilateralFilter(heightmap, d=13, sigmaColor=3000, sigmaSpace=1000, borderType=cv2.BORDER_DEFAULT)\n"
   ]
  },
  {
   "cell_type": "code",
   "execution_count": null,
   "id": "9d7ced3c",
   "metadata": {},
   "outputs": [
    {
     "ename": "",
     "evalue": "",
     "output_type": "error",
     "traceback": [
      "\u001b[1;31mThe Kernel crashed while executing code in the current cell or a previous cell. \n",
      "\u001b[1;31mPlease review the code in the cell(s) to identify a possible cause of the failure. \n",
      "\u001b[1;31mClick <a href='https://aka.ms/vscodeJupyterKernelCrash'>here</a> for more info. \n",
      "\u001b[1;31mView Jupyter <a href='command:jupyter.viewOutput'>log</a> for further details."
     ]
    }
   ],
   "source": []
  },
  {
   "cell_type": "code",
   "execution_count": null,
   "id": "4ef066bc",
   "metadata": {},
   "outputs": [],
   "source": []
  }
 ],
 "metadata": {
  "kernelspec": {
   "display_name": ".venv",
   "language": "python",
   "name": "python3"
  },
  "language_info": {
   "codemirror_mode": {
    "name": "ipython",
    "version": 3
   },
   "file_extension": ".py",
   "mimetype": "text/x-python",
   "name": "python",
   "nbconvert_exporter": "python",
   "pygments_lexer": "ipython3",
   "version": "3.13.3"
  }
 },
 "nbformat": 4,
 "nbformat_minor": 5
}
