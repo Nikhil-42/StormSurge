{
 "cells": [
  {
   "cell_type": "code",
   "execution_count": null,
   "id": "4dcd73bd",
   "metadata": {},
   "outputs": [],
   "source": [
    "import json\n",
    "import numpy as np\n",
    "import cv2"
   ]
  },
  {
   "cell_type": "code",
   "execution_count": null,
   "id": "f874b757",
   "metadata": {},
   "outputs": [],
   "source": [
    "regions = json.load(open('data/regions.json', 'r'))\n",
    "print(f\"The World has been broken into {len(regions)}\")"
   ]
  },
  {
   "cell_type": "code",
   "execution_count": 15,
   "id": "759e0d9c",
   "metadata": {},
   "outputs": [
    {
     "data": {
      "text/plain": [
       "True"
      ]
     },
     "execution_count": 15,
     "metadata": {},
     "output_type": "execute_result"
    }
   ],
   "source": [
    "worldmap = np.zeros((5400, 10800), dtype=np.uint8)\n",
    "\n",
    "for i, (name, region) in enumerate(regions.items()):\n",
    "    contours = [(np.array(contour) * [[worldmap.shape[1], worldmap.shape[0]]]).astype(np.int32) for contour in region['contours']]\n",
    "    hierarchy = np.array(region['hierarchy'], dtype=np.int32)\n",
    "    worldmap = cv2.drawContours(worldmap, contours, -1, i + 1, cv2.FILLED, hierarchy=hierarchy)\n",
    "    \n",
    "# plt.imshow(worldmap, cmap='gray')\n",
    "cv2.imwrite('data/regionmap.png', worldmap)"
   ]
  }
 ],
 "metadata": {
  "kernelspec": {
   "display_name": ".venv",
   "language": "python",
   "name": "python3"
  },
  "language_info": {
   "codemirror_mode": {
    "name": "ipython",
    "version": 3
   },
   "file_extension": ".py",
   "mimetype": "text/x-python",
   "name": "python",
   "nbconvert_exporter": "python",
   "pygments_lexer": "ipython3",
   "version": "3.13.3"
  }
 },
 "nbformat": 4,
 "nbformat_minor": 5
}
